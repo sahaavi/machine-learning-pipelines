{
 "cells": [
  {
   "cell_type": "code",
   "execution_count": 4,
   "metadata": {},
   "outputs": [],
   "source": [
    "import os\n",
    "\n",
    "from tfx import v1 as tfx\n",
    "from tfx.orchestration.experimental.interactive.interactive_context import InteractiveContext\n",
    "\n",
    "# use this to skip the warnings\n",
    "%load_ext tfx.orchestration.experimental.interactive.notebook_extensions.skip"
   ]
  },
  {
   "cell_type": "code",
   "execution_count": 13,
   "metadata": {},
   "outputs": [],
   "source": [
    "import re\n",
    "import apache_beam as beam\n",
    "from apache_beam.io import ReadFromText\n",
    "from apache_beam.io import WriteToText\n",
    "from apache_beam.options.pipeline_options import PipelineOptions\n",
    "from apache_beam.options.pipeline_options import SetupOptions\n",
    "\n",
    "input_file = \"/home/avisaha/machine-learning-pipelines/data/kinglear.txt\"\n",
    "output_file = \"/home/avisaha/machine-learning-pipelines/data/kinglear_ouput.txt\"\n",
    "# Define pipeline options object.\n",
    "pipeline_options = PipelineOptions([])\n",
    "\n",
    "try:\n",
    "    with beam.Pipeline(options=pipeline_options) as p:\n",
    "\n",
    "        # Read the text file or file pattern into a PCollection.\n",
    "        lines = p | ReadFromText(input_file)\n",
    "\n",
    "        # Check if lines is None\n",
    "        if lines is None:\n",
    "            raise ValueError(\"Failed to read input file\")\n",
    "\n",
    "        # Count the occurrences of each word.\n",
    "        counts = (\n",
    "        lines\n",
    "        | 'Split' >> beam.FlatMap(lambda x: re.findall(r'[A-Za-z\\']+', x))\n",
    "        | 'PairWithOne' >> beam.Map(lambda x: (x, 1))\n",
    "        | 'GroupAndSum' >> beam.CombinePerKey(sum))\n",
    "\n",
    "        # Format the counts into a PCollection of strings.\n",
    "        def format_result(word_count):\n",
    "            (word, count) = word_count\n",
    "            return \"{}: {}\".format(word, count)\n",
    "        \n",
    "        output = counts | 'Format' >> beam.Map(format_result)\n",
    "        # Write the output using a \"Write\" transform that has side effects.\n",
    "        output | WriteToText(output_file)\n",
    "\n",
    "except Exception as e:\n",
    "    print(\"An error occurred in the pipeline: \", e)"
   ]
  },
  {
   "cell_type": "markdown",
   "metadata": {},
   "source": [
    "# Data Ingestion"
   ]
  },
  {
   "cell_type": "code",
   "execution_count": 16,
   "metadata": {},
   "outputs": [
    {
     "name": "stdout",
     "output_type": "stream",
     "text": [
      "tf.Tensor(b'First record', shape=(), dtype=string)\n",
      "tf.Tensor(b'Second record', shape=(), dtype=string)\n"
     ]
    }
   ],
   "source": [
    "import tensorflow as tf\n",
    "with tf.io.TFRecordWriter(\"../data/test.tfrecord\") as w:\n",
    "    w.write(b\"First record\")\n",
    "    w.write(b\"Second record\")\n",
    "\n",
    "for record in tf.data.TFRecordDataset(\"../data/test.tfrecord\"):\n",
    "    print(record)"
   ]
  },
  {
   "cell_type": "markdown",
   "metadata": {},
   "source": [
    "## Converting comma-separated data to tf.Example"
   ]
  },
  {
   "cell_type": "code",
   "execution_count": 22,
   "metadata": {},
   "outputs": [
    {
     "ename": "ModuleNotFoundError",
     "evalue": "No module named 'tfx.utils.dsl_utils'",
     "output_type": "error",
     "traceback": [
      "\u001b[0;31m---------------------------------------------------------------------------\u001b[0m",
      "\u001b[0;31mModuleNotFoundError\u001b[0m                       Traceback (most recent call last)",
      "\u001b[0;32m/tmp/ipykernel_23878/3416819268.py\u001b[0m in \u001b[0;36m<cell line: 3>\u001b[0;34m()\u001b[0m\n\u001b[1;32m      1\u001b[0m \u001b[0;32mimport\u001b[0m \u001b[0mos\u001b[0m\u001b[0;34m\u001b[0m\u001b[0;34m\u001b[0m\u001b[0m\n\u001b[1;32m      2\u001b[0m \u001b[0;32mfrom\u001b[0m \u001b[0mtfx\u001b[0m\u001b[0;34m.\u001b[0m\u001b[0mcomponents\u001b[0m \u001b[0;32mimport\u001b[0m \u001b[0mCsvExampleGen\u001b[0m\u001b[0;34m\u001b[0m\u001b[0;34m\u001b[0m\u001b[0m\n\u001b[0;32m----> 3\u001b[0;31m \u001b[0;32mfrom\u001b[0m \u001b[0mtfx\u001b[0m\u001b[0;34m.\u001b[0m\u001b[0mutils\u001b[0m\u001b[0;34m.\u001b[0m\u001b[0mdsl_utils\u001b[0m \u001b[0;32mimport\u001b[0m \u001b[0mexternal_input\u001b[0m\u001b[0;34m\u001b[0m\u001b[0;34m\u001b[0m\u001b[0m\n\u001b[0m\u001b[1;32m      4\u001b[0m \u001b[0;34m\u001b[0m\u001b[0m\n\u001b[1;32m      5\u001b[0m \u001b[0;34m\u001b[0m\u001b[0m\n",
      "\u001b[0;31mModuleNotFoundError\u001b[0m: No module named 'tfx.utils.dsl_utils'"
     ]
    }
   ],
   "source": [
    "import os\n",
    "from tfx.components import CsvExampleGen\n",
    "from tfx.utils.dsl_utils import external_input\n",
    "\n",
    "base_dir = os.getcwd()\n",
    "data_dir = os.path.join(os.pardir, \"data\")\n",
    "examples = external_input(os.path.join(base_dir, data_dir))\n",
    "\n",
    "example_gen = CsvExampleGen(input=examples)\n",
    "\n",
    "context = InteractiveContext()\n",
    "context.run(example_gen)"
   ]
  },
  {
   "cell_type": "code",
   "execution_count": null,
   "metadata": {},
   "outputs": [],
   "source": []
  }
 ],
 "metadata": {
  "kernelspec": {
   "display_name": "Python 3",
   "language": "python",
   "name": "python3"
  },
  "language_info": {
   "codemirror_mode": {
    "name": "ipython",
    "version": 3
   },
   "file_extension": ".py",
   "mimetype": "text/x-python",
   "name": "python",
   "nbconvert_exporter": "python",
   "pygments_lexer": "ipython3",
   "version": "3.10.0"
  }
 },
 "nbformat": 4,
 "nbformat_minor": 2
}
